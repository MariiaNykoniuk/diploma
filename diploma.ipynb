{
  "nbformat": 4,
  "nbformat_minor": 0,
  "metadata": {
    "colab": {
      "provenance": []
    },
    "kernelspec": {
      "name": "python3",
      "display_name": "Python 3"
    },
    "language_info": {
      "name": "python"
    }
  },
  "cells": [
    {
      "cell_type": "code",
      "execution_count": null,
      "metadata": {
        "id": "mqv2epIs8OQN"
      },
      "outputs": [],
      "source": [
        "from google.colab import drive\n",
        "import cv2\n",
        "import matplotlib.pyplot as plt\n",
        "import numpy as np\n",
        "import seaborn as sns\n",
        "import hashlib\n",
        "from sklearn.model_selection import train_test_split\n",
        "from skimage.transform import rotate\n",
        "from sklearn.svm import SVC\n",
        "from sklearn.model_selection import train_test_split\n",
        "from sklearn.model_selection import GridSearchCV\n",
        "from sklearn.metrics import accuracy_score, confusion_matrix, ConfusionMatrixDisplay, classification_report\n",
        "from sklearn.tree import DecisionTreeClassifier\n",
        "from sklearn.ensemble import RandomForestClassifier\n",
        "from sklearn.neural_network import MLPClassifier\n",
        "from sklearn.ensemble import VotingClassifier\n",
        "import joblib"
      ]
    },
    {
      "cell_type": "code",
      "source": [
        "IMM_SIZE = 150\n",
        "images = []\n",
        "values = []\n",
        "duplicates = []"
      ],
      "metadata": {
        "id": "L_r8OL-N8azy"
      },
      "execution_count": null,
      "outputs": []
    },
    {
      "cell_type": "code",
      "source": [
        "stages_dict = {\"CN\": ['None', 'NonDemented'], \"EMCI\": ['Very Mild', 'VeryMildDemented'], \n",
        "               \"LMCI\": ['Mild', 'MildDemented'], \"MCI\": ['Moderate', 'ModerateDemented'], \"AD\": ['Servere', 'SevereDemented']}\n",
        "stages_list = [\"CN\", \"EMCI\", \"LMCI\", \"MCI\", \"AD\"]\n",
        "\n",
        "count_dumplicates = {\"CN\": 0, \"EMCI\": 0, \"LMCI\": 0, \"MCI\": 0, \"AD\": 0}\n",
        "count_all_images = {\"CN\": 0, \"EMCI\": 0, \"LMCI\": 0, \"MCI\": 0, \"AD\": 0}"
      ],
      "metadata": {
        "id": "VC2BOMRx8dr8"
      },
      "execution_count": null,
      "outputs": []
    },
    {
      "cell_type": "markdown",
      "source": [
        "Завантаження зображень та перевірка на дублікати"
      ],
      "metadata": {
        "id": "HjAyDpRb-328"
      }
    },
    {
      "cell_type": "code",
      "source": [
        "def load_images(path, images, values, count_dumplicates, count_all_images):\n",
        "  hashes = {}\n",
        "  folders_list = os.listdir(path)\n",
        "  for f in folders_list:\n",
        "    files_list = os.listdir(path+\"/\"+f)\n",
        "    for files in files_list:\n",
        "      image = cv2.imread(path+\"/\"+f+\"/\"+files)\n",
        "      filehash = hashlib.sha256(image).hexdigest()\n",
        "      index = [key for key, value in stages_dict.items() if f in value]\n",
        "      if filehash in hashes:\n",
        "        count_dumplicates[index[0]] += 1\n",
        "      else:\n",
        "        images.append(image)\n",
        "        count_all_images[index[0]] += 1\n",
        "        values.append(index[0])\n",
        "        hashes[filehash] = files\n",
        "  return images, values, count_dumplicates, count_all_images\n",
        "  "
      ],
      "metadata": {
        "id": "lhVssu0F8d2I"
      },
      "execution_count": null,
      "outputs": []
    },
    {
      "cell_type": "code",
      "source": [
        "images, values, count_dumplicates, count_all_images = load_images('train', images, values, count_dumplicates, count_all_images)\n",
        "images, values, count_dumplicates, count_all_images = load_images('test', images, values, count_dumplicates, count_all_images)"
      ],
      "metadata": {
        "id": "UdgurvIT8kdD"
      },
      "execution_count": null,
      "outputs": []
    },
    {
      "cell_type": "markdown",
      "source": [
        "Приклад кожної стадії хвороби Альцгеймера в наборі даних"
      ],
      "metadata": {
        "id": "YmhOKjUd_QnV"
      }
    },
    {
      "cell_type": "code",
      "source": [
        "plt.figure(figsize=(20, 30))\n",
        "for stage in stages_list:\n",
        "  indices = [i for i, x in enumerate(values) if x == stage]\n",
        "  sampled_list = random.sample(indices, 1)\n",
        "  for i in range(len(sampled_list)):\n",
        "    plt.subplot(1, 5, i+1+(stages_list.index(stage)*1))\n",
        "    plt.imshow(images[sampled_list[i]], cmap='gray')\n",
        "    plt.title(stage)"
      ],
      "metadata": {
        "id": "6SJoOYF48nCI"
      },
      "execution_count": null,
      "outputs": []
    },
    {
      "cell_type": "markdown",
      "source": [
        "Побудова стовпчастої діаграми для відображення кількості зображень по кожній стадії хвороби та кількості дублікатів"
      ],
      "metadata": {
        "id": "YoRHe0o6_aTE"
      }
    },
    {
      "cell_type": "code",
      "source": [
        "stages = list(count_all_images.keys())\n",
        "duplicates = [count_dumplicates[stage] for stage in stages]\n",
        "counts = [count_all_images[stage] for stage in stages]\n",
        "\n",
        "colors = ['#CCCCFF', '#FF9999']\n",
        "fig, ax = plt.subplots(figsize=(8, 6))\n",
        "bar_width = 0.35\n",
        "\n",
        "ax.bar(stages, counts, width=bar_width, color=colors[0], label='Кількість унікальних зображень')\n",
        "ax.bar(stages, duplicates, width=bar_width, bottom=counts, color=colors[1], label='Кількість дублікатів')\n",
        "ax.legend()\n",
        "ax.set_xlabel('Стадії хвороби')\n",
        "ax.set_ylabel('Кількість')\n",
        "\n",
        "plt.show()"
      ],
      "metadata": {
        "id": "bt5yBvBl8tFe"
      },
      "execution_count": null,
      "outputs": []
    },
    {
      "cell_type": "markdown",
      "source": [
        "Аугментація даних - відображення зображень відносно вертикальної осі та поворот на деякий кут"
      ],
      "metadata": {
        "id": "vIhuW77P_3U4"
      }
    },
    {
      "cell_type": "code",
      "source": [
        "def dataset_augmentation(arr, values, ind, method):\n",
        "  if method == \"rotate\":\n",
        "    for i in ind:\n",
        "      degree = 0\n",
        "      while degree == 0:\n",
        "        degree = random.randint(-15, 15)\n",
        "      rot_image = rotate(arr[i], angle=degree)\n",
        "      arr.append(rot_image)\n",
        "      values.append(values[i])\n",
        "  elif method == \"flip\":\n",
        "    for i in ind:\n",
        "      hflipped_image= cv2.flip(arr[i], 1)\n",
        "      arr.append(hflipped_image)\n",
        "      values.append(values[i])\n",
        "  return arr, values"
      ],
      "metadata": {
        "id": "PwRuKovf8-SE"
      },
      "execution_count": null,
      "outputs": []
    },
    {
      "cell_type": "code",
      "source": [
        "def find_all_index_images(arr, stage):\n",
        "  indices = [ind for ind, ele in enumerate(arr) if ele == stage]\n",
        "  return indices"
      ],
      "metadata": {
        "id": "P1QTvIcz9AOM"
      },
      "execution_count": null,
      "outputs": []
    },
    {
      "cell_type": "code",
      "source": [
        "indexes = find_all_index_images(values, \"EMCI\")\n",
        "images, values = dataset_augmentation(images, values, indexes, 'flip')\n",
        "indexes = find_all_index_images(values, \"EMCI\")\n",
        "images, values = dataset_augmentation(images, values, indexes, 'rotate')\n",
        "\n",
        "indexes = find_all_index_images(values, \"CN\")\n",
        "images, values = dataset_augmentation(images, values, indexes, 'flip')\n",
        "images, values = dataset_augmentation(images, values, indexes, 'rotate')\n",
        "\n",
        "indexes = find_all_index_images(values, \"LMCI\")\n",
        "images, values = dataset_augmentation(images, values, indexes, 'flip')"
      ],
      "metadata": {
        "id": "zUwRXWdF9DaC"
      },
      "execution_count": null,
      "outputs": []
    },
    {
      "cell_type": "markdown",
      "source": [
        "Нормалізація зображень"
      ],
      "metadata": {
        "id": "BHlCFk6F_rmK"
      }
    },
    {
      "cell_type": "code",
      "source": [
        "# Perform min-max normalization\n",
        "def normalization(array):\n",
        "  for i in range(len(array)):\n",
        "    min_val = np.min(array[i])\n",
        "    max_val = np.max(array[i])\n",
        "    img_norm = (array[i] - min_val) / (max_val - min_val)\n",
        "    array[i] = img_norm\n",
        "  return array"
      ],
      "metadata": {
        "id": "f4FaUaQg84Fj"
      },
      "execution_count": null,
      "outputs": []
    },
    {
      "cell_type": "code",
      "source": [
        "images = normalization(images)"
      ],
      "metadata": {
        "id": "sqAGMGN-86XD"
      },
      "execution_count": null,
      "outputs": []
    },
    {
      "cell_type": "code",
      "source": [
        "print(dict((l, values.count(l)) for l in set(values)))"
      ],
      "metadata": {
        "id": "v6Y3LQYy9GD0"
      },
      "execution_count": null,
      "outputs": []
    },
    {
      "cell_type": "markdown",
      "source": [
        "Поділ на навчальну, тестову та валідаційну вибірки 60:20:20"
      ],
      "metadata": {
        "id": "etE1GMpJAC9Q"
      }
    },
    {
      "cell_type": "code",
      "source": [
        "X_train, X_test, y_train, y_test = train_test_split(images, values, test_size=0.2, random_state=20, stratify=values)\n",
        "\n",
        "X_train, X_val, y_train, y_val = train_test_split(X_train, y_train, test_size=0.25, random_state=20, stratify=y_train) # 0.25 x 0.8 = 0.2"
      ],
      "metadata": {
        "id": "G_7q7-1F9JY2"
      },
      "execution_count": null,
      "outputs": []
    },
    {
      "cell_type": "markdown",
      "source": [
        "Кругові діаграми розподілу зображень кожного класу в наборах даних на вибірки"
      ],
      "metadata": {
        "id": "-qp-l-BOAQ29"
      }
    },
    {
      "cell_type": "code",
      "source": [
        "colors = ['#9999FF', '#99CCFF','#FFCC99', '#FFFF99', '#FF9999']\n",
        "fig, ax = plt.subplots(nrows=1, ncols=3, figsize=(20, 5))\n",
        "\n",
        "# Plot pie chart for train set\n",
        "train_labels, train_counts = np.unique(y_train, return_counts=True)\n",
        "ax[0].pie(train_counts, labels=train_labels, colors=colors,autopct=lambda x: '{:d}'.format(int(round(x * sum(train_counts) / 100.0))), startangle=140)\n",
        "ax[0].set_title('Train Set')\n",
        "\n",
        "# Plot pie chart for validation set\n",
        "val_labels, val_counts = np.unique(y_val, return_counts=True)\n",
        "ax[1].pie(val_counts, labels=val_labels, colors=colors,autopct=lambda x: '{:d}'.format(int(round(x * sum(val_counts) / 100.0))), startangle=140)\n",
        "ax[1].set_title('Validation Set')\n",
        "\n",
        "# Plot pie chart for test set\n",
        "test_labels, test_counts = np.unique(y_test, return_counts=True)\n",
        "ax[2].pie(test_counts, labels=test_labels, colors=colors,autopct=lambda x: '{:d}'.format(int(round(x * sum(test_counts) / 100.0))), startangle=140)\n",
        "ax[2].set_title('Test Set')\n",
        "\n",
        "plt.show()"
      ],
      "metadata": {
        "id": "PaXWcHB69MBP"
      },
      "execution_count": null,
      "outputs": []
    },
    {
      "cell_type": "code",
      "source": [
        "X_train = np.array(X_train)\n",
        "y_train = np.array(y_train)\n",
        "X_test = np.array(X_test)\n",
        "y_test = np.array(y_test)\n",
        "X_val = np.array(X_val)\n",
        "y_val = np.array(y_val)\n",
        "\n",
        "X_train = X_train.reshape((X_train.shape[0], -1))\n",
        "X_test = X_test.reshape((X_test.shape[0], -1))\n",
        "X_val = X_val.reshape((X_val.shape[0], -1))"
      ],
      "metadata": {
        "id": "8VVhxnzN9OzT"
      },
      "execution_count": null,
      "outputs": []
    },
    {
      "cell_type": "markdown",
      "source": [
        "SVM - підбір гіперпараметрів та передбачення на валідаційній вибірці"
      ],
      "metadata": {
        "id": "sNczj1QOAZBE"
      }
    },
    {
      "cell_type": "code",
      "source": [
        "svc = SVC()\n",
        "param_grid = {'C': [0.1, 1, 10, 100, 1000], \n",
        "              'gamma': [1, 0.1, 0.01, 0.001, 0.0001],\n",
        "              'kernel': ['rbf']} \n",
        "\n",
        "grid = GridSearchCV(svc, param_grid, refit = True, verbose = 3)\n",
        "\n",
        "grid.fit(X_train, y_train)\n",
        "print(grid.best_params_)\n",
        "print(grid.best_estimator_)\n",
        "\n",
        "grid_predictions = grid.predict(X_val) \n",
        "\n",
        "accuracy = accuracy_score(y_val, grid_predictions)\n",
        "confusion_mat = confusion_matrix(y_val, grid_predictions)\n",
        "print(\"Accuracy:\", accuracy)\n",
        "print(classification_report(y_val, grid_predictions))\n",
        "\n",
        "ConfusionMatrixDisplay(confusion_matrix=confusion_mat, display_labels=svc.classes_).plot(cmap='Blues')"
      ],
      "metadata": {
        "id": "_k-3SFAE9gpp"
      },
      "execution_count": null,
      "outputs": []
    },
    {
      "cell_type": "markdown",
      "source": [
        "Decision Tree - підбір гіперпараметрів та передбачення на валідаційній вибірці"
      ],
      "metadata": {
        "id": "VtiV2TBAAhrw"
      }
    },
    {
      "cell_type": "code",
      "source": [
        "dfc = DecisionTreeClassifier(random_state=42)\n",
        "\n",
        "param_grid = {'criterion': ['gini', 'entropy'],\n",
        "              'max_depth': [2, 4, 6, 8, 10, 12]}\n",
        "\n",
        "grid = GridSearchCV(dfc, param_grid, refit = True, verbose = 3)\n",
        "\n",
        "grid.fit(X_train, y_train)\n",
        "print(grid.best_params_)\n",
        "print(grid.best_estimator_)\n",
        "\n",
        "grid_predictions = grid.predict(X_val) \n",
        "\n",
        "accuracy = accuracy_score(y_val, grid_predictions)\n",
        "confusion_mat = confusion_matrix(y_val, grid_predictions)\n",
        "print(\"Accuracy:\", accuracy)\n",
        "print(classification_report(y_val, grid_predictions))\n",
        "\n",
        "ConfusionMatrixDisplay(confusion_matrix=confusion_mat, display_labels=svc.classes_).plot(cmap='Blues')"
      ],
      "metadata": {
        "id": "D9xXupB29pb5"
      },
      "execution_count": null,
      "outputs": []
    },
    {
      "cell_type": "markdown",
      "source": [
        "Random Forest - підбір гіперпараметрів та передбачення на валідаційній вибірці"
      ],
      "metadata": {
        "id": "FhhGOMJnAkSq"
      }
    },
    {
      "cell_type": "code",
      "source": [
        "rfc = RandomForestClassifier()\n",
        "\n",
        "param_grid = {'n_estimators': [100, 200, 300],\n",
        "              'max_depth': [5, 10, 15, None],}\n",
        "\n",
        "\n",
        "grid = GridSearchCV(rfc, param_grid, refit = True, verbose = 3)\n",
        "  \n",
        "grid.fit(X_train, y_train)\n",
        "print(grid.best_params_)\n",
        "print(grid.best_estimator_)\n",
        "\n",
        "grid_predictions = grid.predict(X_val) \n",
        "\n",
        "accuracy = accuracy_score(y_val, grid_predictions)\n",
        "confusion_mat = confusion_matrix(y_val, grid_predictions)\n",
        "print(\"Accuracy:\", accuracy)\n",
        "print(classification_report(y_val, grid_predictions))\n",
        "\n",
        "ConfusionMatrixDisplay(confusion_matrix=confusion_mat, display_labels=svc.classes_).plot(cmap='Blues')"
      ],
      "metadata": {
        "id": "MFwBgkYR9ueY"
      },
      "execution_count": null,
      "outputs": []
    },
    {
      "cell_type": "markdown",
      "source": [
        "MLP - підбір гіперпараметрів та передбачення на валідаційній вибірці"
      ],
      "metadata": {
        "id": "GWf4fJTEAmrx"
      }
    },
    {
      "cell_type": "code",
      "source": [
        "mlp = MLPClassifier()\n",
        "\n",
        "param_grid = {\n",
        "    'hidden_layer_sizes': [(50,50,50), (50,100,50), (100,)],\n",
        "    'activation': ['tanh', 'relu'],\n",
        "    'solver': ['sgd', 'adam']\n",
        "}\n",
        "\n",
        "grid = GridSearchCV(mlp, param_grid, refit = True, verbose = 3)\n",
        "\n",
        "grid.fit(X_train, y_train)\n",
        "print(grid.best_params_)\n",
        "print(grid.best_estimator_)\n",
        "\n",
        "grid_predictions = grid.predict(X_val) \n",
        "\n",
        "accuracy = accuracy_score(y_val, grid_predictions)\n",
        "confusion_mat = confusion_matrix(y_val, grid_predictions)\n",
        "print(\"Accuracy:\", accuracy)\n",
        "print(classification_report(y_val, grid_predictions))\n",
        "\n",
        "ConfusionMatrixDisplay(confusion_matrix=confusion_mat, display_labels=svc.classes_).plot(cmap='Blues')"
      ],
      "metadata": {
        "id": "hXwKqp569zmw"
      },
      "execution_count": null,
      "outputs": []
    },
    {
      "cell_type": "markdown",
      "source": [
        "Voting Classifier - hard voting"
      ],
      "metadata": {
        "id": "R6pdTB1QAo-Y"
      }
    },
    {
      "cell_type": "code",
      "source": [
        "rfc_1 = RandomForestClassifier(n_estimators=300)\n",
        "mlp_1 = MLPClassifier(activation='tanh', hidden_layer_sizes=(50, 50, 50), solver='sgd')\n",
        "svc_1 = SVC(C=1, gamma=0.001, kernel='rbf')\n",
        "\n",
        "eclf1 = VotingClassifier(estimators=[('rf', rfc_1), ('mlp', mlp_1), ('svc', svc_1)], voting='hard', n_jobs=-1, verbose=True)"
      ],
      "metadata": {
        "id": "jfQkPqAU96QH"
      },
      "execution_count": null,
      "outputs": []
    },
    {
      "cell_type": "code",
      "source": [
        "eclf1.fit(X_train, y_train)\n",
        "y_pred_eclf1 = eclf1.predict(X_val)"
      ],
      "metadata": {
        "id": "EVRsV_e798SQ"
      },
      "execution_count": null,
      "outputs": []
    },
    {
      "cell_type": "code",
      "source": [
        "accuracy = accuracy_score(y_val, y_pred_eclf1)\n",
        "confusion_mat = confusion_matrix(y_val, y_pred_eclf1)\n",
        "print(\"Accuracy:\", accuracy)\n",
        "print(\"Confusion matrix:\\n\", confusion_mat)\n",
        "print(classification_report(y_val, y_pred_eclf1))\n",
        "ConfusionMatrixDisplay(confusion_matrix=confusion_mat, display_labels=eclf1.classes_).plot(cmap='Blues')"
      ],
      "metadata": {
        "id": "qSHn7XnS-DPw"
      },
      "execution_count": null,
      "outputs": []
    },
    {
      "cell_type": "code",
      "source": [
        "eclf1.estimators_"
      ],
      "metadata": {
        "id": "7YzLkrB7-Av3"
      },
      "execution_count": null,
      "outputs": []
    },
    {
      "cell_type": "markdown",
      "source": [
        "Voting Classifier - soft voting"
      ],
      "metadata": {
        "id": "zkobyaJQAt7L"
      }
    },
    {
      "cell_type": "code",
      "source": [
        "rfc_2 = RandomForestClassifier(n_estimators=300)\n",
        "mlp_2 = MLPClassifier(activation='tanh', hidden_layer_sizes=(50, 50, 50), solver='sgd')\n",
        "svc_2 = SVC(C=1, gamma=0.001, kernel='rbf', probability=True)\n",
        "\n",
        "eclf2 = VotingClassifier(estimators=[('rf', rfc_2), ('mlp', mlp_2), ('svc', svc_2)],  voting='soft', verbose=True)"
      ],
      "metadata": {
        "id": "GSoaSvOg-Ibt"
      },
      "execution_count": null,
      "outputs": []
    },
    {
      "cell_type": "code",
      "source": [
        "eclf2.fit(X_train, y_train)\n",
        "y_pred_eclf2 = eclf2.predict(X_val)"
      ],
      "metadata": {
        "id": "eW5E-K7y-KKF"
      },
      "execution_count": null,
      "outputs": []
    },
    {
      "cell_type": "code",
      "source": [
        "accuracy = accuracy_score(y_val, y_pred_eclf2)\n",
        "confusion_mat = confusion_matrix(y_val, y_pred_eclf2)\n",
        "print(\"Accuracy:\", accuracy)\n",
        "print(classification_report(y_val, y_pred_eclf2))\n",
        "ConfusionMatrixDisplay(confusion_matrix=confusion_mat, display_labels=eclf2.classes_).plot(cmap='Blues')"
      ],
      "metadata": {
        "id": "MHk0UjhF-MgV"
      },
      "execution_count": null,
      "outputs": []
    },
    {
      "cell_type": "code",
      "source": [
        "eclf2.estimators_"
      ],
      "metadata": {
        "id": "lpkd8HLs-Rxk"
      },
      "execution_count": null,
      "outputs": []
    },
    {
      "cell_type": "code",
      "source": [
        "joblib.dump(eclf2, 'ensemble_model.joblib')"
      ],
      "metadata": {
        "id": "LokBscbi-TDS"
      },
      "execution_count": null,
      "outputs": []
    },
    {
      "cell_type": "markdown",
      "source": [
        "Voting Classifier - soft voting, класифікація на тестовій вибірці"
      ],
      "metadata": {
        "id": "MTqTqG0AAylw"
      }
    },
    {
      "cell_type": "code",
      "source": [
        "loaded_ensemble = joblib.load('ensemble_model.joblib')"
      ],
      "metadata": {
        "id": "JygKW-T1-Zia"
      },
      "execution_count": null,
      "outputs": []
    },
    {
      "cell_type": "code",
      "source": [
        "y_pred_final = loaded_ensemble.predict(X_test)"
      ],
      "metadata": {
        "id": "iZ-JR2ce-b8C"
      },
      "execution_count": null,
      "outputs": []
    },
    {
      "cell_type": "code",
      "source": [
        "accuracy = accuracy_score(y_test, y_pred_final)\n",
        "confusion_mat = confusion_matrix(y_test, y_pred_final)\n",
        "print(\"Accuracy:\", accuracy)\n",
        "print(\"Confusion matrix:\\n\", confusion_mat)\n",
        "print(classification_report(y_test, y_pred_final))\n",
        "ConfusionMatrixDisplay(confusion_matrix=confusion_mat, display_labels=loaded_ensemble.classes_).plot(cmap='Blues')"
      ],
      "metadata": {
        "id": "VmMPr7sD-dq8"
      },
      "execution_count": null,
      "outputs": []
    }
  ]
}